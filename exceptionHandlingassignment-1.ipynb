{
 "cells": [
  {
   "cell_type": "code",
   "execution_count": 1,
   "id": "5300cf22-7d2f-40d2-b188-d448728b9778",
   "metadata": {},
   "outputs": [
    {
     "data": {
      "text/plain": [
       "''"
      ]
     },
     "execution_count": 1,
     "metadata": {},
     "output_type": "execute_result"
    }
   ],
   "source": [
    "#ans 1\n",
    "\"\"\"\n",
    "Exceptions are the events which disrupts normal flow of program's instructions and as we encounter\n",
    "an error then it will not allow other statements to execute and stop flow of execution\n",
    "\n",
    "\"\"\"\n",
    "\"\"\"\n",
    "exception  occur at runtime but syntax error occurs at compile time\n",
    "exception like divide by zero, missing file while syntax errors occurs due \n",
    "to problem with program source code like missing semicolon, missing datatype declaration of a variable etc\n",
    "\n",
    "\"\"\"\n",
    "\"\"\"\"\"\"\n",
    "#done1\n"
   ]
  },
  {
   "cell_type": "code",
   "execution_count": 2,
   "id": "c0a332eb-6f27-4a35-b9fb-2b91f76293cc",
   "metadata": {},
   "outputs": [
    {
     "data": {
      "text/plain": [
       "''"
      ]
     },
     "execution_count": 2,
     "metadata": {},
     "output_type": "execute_result"
    }
   ],
   "source": [
    "#ans2\n",
    "\"\"\"\n",
    "if we are not able to handle the exceptions then operating system will generate a fatal message\n",
    "to the user  Errors interrupt the flow of the program at the point where they appear, \n",
    "so any further code stops executing. This error is called an exception.\n",
    "\n",
    "\"\"\"\n",
    "\"\"\"\"\"\"\n",
    "#example is shown below:-"
   ]
  },
  {
   "cell_type": "code",
   "execution_count": 3,
   "id": "f6ffd4b1-c119-4e7f-a708-a2a9023e26f5",
   "metadata": {},
   "outputs": [
    {
     "ename": "ZeroDivisionError",
     "evalue": "division by zero",
     "output_type": "error",
     "traceback": [
      "\u001b[0;31m---------------------------------------------------------------------------\u001b[0m",
      "\u001b[0;31mZeroDivisionError\u001b[0m                         Traceback (most recent call last)",
      "Cell \u001b[0;32mIn[3], line 3\u001b[0m\n\u001b[1;32m      1\u001b[0m \u001b[38;5;66;03m#example of ans 2\u001b[39;00m\n\u001b[1;32m      2\u001b[0m a\u001b[38;5;241m=\u001b[39m\u001b[38;5;241m0\u001b[39m\n\u001b[0;32m----> 3\u001b[0m \u001b[43ma\u001b[49m\u001b[38;5;241;43m/\u001b[39;49m\u001b[38;5;241;43m0\u001b[39;49m\n\u001b[1;32m      4\u001b[0m \u001b[38;5;66;03m#so it generates Zero Division Error msg\u001b[39;00m\n",
      "\u001b[0;31mZeroDivisionError\u001b[0m: division by zero"
     ]
    }
   ],
   "source": [
    "#example of ans 2\n",
    "a=0\n",
    "a/0\n",
    "#so it generates Zero Division Error msg"
   ]
  },
  {
   "cell_type": "code",
   "execution_count": 4,
   "id": "40f04b39-4800-4edd-817c-cf531293894c",
   "metadata": {},
   "outputs": [
    {
     "data": {
      "text/plain": [
       "''"
      ]
     },
     "execution_count": 4,
     "metadata": {},
     "output_type": "execute_result"
    }
   ],
   "source": [
    "#ans3\n",
    "\"\"\"\n",
    "The try and except block in Python is used to catch and handle exceptions.\n",
    "\n",
    "\"\"\"\n",
    "\"\"\"\"\"\"\n",
    "#example is shown below:-"
   ]
  },
  {
   "cell_type": "code",
   "execution_count": 5,
   "id": "54ac6346-aed6-476a-abee-ee1ffd394dce",
   "metadata": {},
   "outputs": [
    {
     "name": "stdout",
     "output_type": "stream",
     "text": [
      "File doesn't exist [Errno 2] No such file or directory: 'test12.txt'\n"
     ]
    }
   ],
   "source": [
    "#example of ans 3\n",
    "try:\n",
    "    f=open(\"test12.txt\",\"r\")\n",
    "except Exception as e:\n",
    "    print(\"File doesn't exist\",e)\n",
    "    \n",
    "        "
   ]
  },
  {
   "cell_type": "code",
   "execution_count": 6,
   "id": "bab4462b-d4f4-44d7-b737-9916a988ffb6",
   "metadata": {},
   "outputs": [
    {
     "name": "stdout",
     "output_type": "stream",
     "text": [
      "Iam in try\n",
      "11\n"
     ]
    }
   ],
   "source": [
    "#ans4 part (a)\n",
    "\n",
    "\"\"\" if our try block execute successfully then it directly jumps to else block\"\"\"\n",
    "try:\n",
    "    print(\"Iam in try\")\n",
    "except Exception as e:\n",
    "    print(\"i am in exception\",e)\n",
    "else:\n",
    "    print(5+6)\n",
    "\n"
   ]
  },
  {
   "cell_type": "code",
   "execution_count": 7,
   "id": "23124eb0-a230-4897-a676-0cac9e35c443",
   "metadata": {},
   "outputs": [
    {
     "name": "stdout",
     "output_type": "stream",
     "text": [
      "Iam in try\n",
      "This is important part and it will always be executed\n"
     ]
    }
   ],
   "source": [
    "#ans 4 part (b)\n",
    "\"\"\" when we want to execute some part of our code in every ituation then we put it in finally block\"\"\"\n",
    "try:\n",
    "    print(\"Iam in try\")\n",
    "except Exception as e:\n",
    "    print(\"i am in exception\",e)\n",
    "finally:\n",
    "    print(\"This is important part and it will always be executed\")"
   ]
  },
  {
   "cell_type": "code",
   "execution_count": 8,
   "id": "82ed2008-21ed-4738-a703-6c6de97b865e",
   "metadata": {},
   "outputs": [
    {
     "ename": "TypeError",
     "evalue": "sorry only nums are allowed",
     "output_type": "error",
     "traceback": [
      "\u001b[0;31m---------------------------------------------------------------------------\u001b[0m",
      "\u001b[0;31mTypeError\u001b[0m                                 Traceback (most recent call last)",
      "Cell \u001b[0;32mIn[8], line 5\u001b[0m\n\u001b[1;32m      3\u001b[0m x\u001b[38;5;241m=\u001b[39m\u001b[38;5;124m\"\u001b[39m\u001b[38;5;124msay\u001b[39m\u001b[38;5;124m\"\u001b[39m\n\u001b[1;32m      4\u001b[0m \u001b[38;5;28;01mif\u001b[39;00m \u001b[38;5;129;01mnot\u001b[39;00m \u001b[38;5;28mtype\u001b[39m(x)\u001b[38;5;241m==\u001b[39m\u001b[38;5;28mint\u001b[39m:\n\u001b[0;32m----> 5\u001b[0m     \u001b[38;5;28;01mraise\u001b[39;00m \u001b[38;5;167;01mTypeError\u001b[39;00m(\u001b[38;5;124m\"\u001b[39m\u001b[38;5;124msorry only nums are allowed\u001b[39m\u001b[38;5;124m\"\u001b[39m)\n\u001b[1;32m      6\u001b[0m \u001b[38;5;28;01melse\u001b[39;00m:\n\u001b[1;32m      7\u001b[0m     \u001b[38;5;28mprint\u001b[39m(\u001b[38;5;124m\"\u001b[39m\u001b[38;5;124myou entered a correct input\u001b[39m\u001b[38;5;124m\"\u001b[39m)\n",
      "\u001b[0;31mTypeError\u001b[0m: sorry only nums are allowed"
     ]
    }
   ],
   "source": [
    "#ans 4 part (c)\n",
    "\"\"\" raise a error if x is not integer\"\"\"\n",
    "x=\"say\"\n",
    "if not type(x)==int:\n",
    "    raise TypeError(\"sorry only nums are allowed\")\n",
    "else:\n",
    "    print(\"you entered a correct input\")"
   ]
  },
  {
   "cell_type": "code",
   "execution_count": 9,
   "id": "d016a08a-413c-4e6c-991e-ccbd2cfba210",
   "metadata": {},
   "outputs": [
    {
     "data": {
      "text/plain": [
       "''"
      ]
     },
     "execution_count": 9,
     "metadata": {},
     "output_type": "execute_result"
    }
   ],
   "source": [
    "#ans 5\n",
    "\"\"\"\n",
    "Custom exceptions are the exceptions which occur when we want to raise an exception\n",
    "\n",
    "\"\"\"\n",
    "\"\"\"\"\"\"\n",
    "#example:-"
   ]
  },
  {
   "cell_type": "code",
   "execution_count": 17,
   "id": "01627ad3-cbf6-4846-9367-c66ad0217d03",
   "metadata": {},
   "outputs": [],
   "source": [
    "class validphone(Exception):\n",
    "    def __init__(self,msg):\n",
    "        self.msg=msg"
   ]
  },
  {
   "cell_type": "code",
   "execution_count": 21,
   "id": "87ee651d-97cc-467d-ad41-1b3cd3d96b74",
   "metadata": {},
   "outputs": [],
   "source": [
    "def valid_phone(phone_no_len):\n",
    "    if phone_no_len < 10:\n",
    "        raise validphone(\"not a valid phone no.\")\n",
    "        \n",
    "    elif phone_no_len > 10:\n",
    "        raise validphone(\"please check and enter again\")\n",
    "    \n",
    "    else:\n",
    "        print(\"it is a valid phone_no\")"
   ]
  },
  {
   "cell_type": "code",
   "execution_count": 24,
   "id": "8e66f7c0-f152-4cba-bb79-15a210307dd0",
   "metadata": {},
   "outputs": [
    {
     "name": "stdin",
     "output_type": "stream",
     "text": [
      "please enter no. of digits in phone_no: 11\n"
     ]
    },
    {
     "name": "stdout",
     "output_type": "stream",
     "text": [
      "please check and enter again\n"
     ]
    }
   ],
   "source": [
    "try:\n",
    "    phone=int(input(\"please enter no. of digits in phone_no:\"))\n",
    "    valid_phone(phone)\n",
    "except validphone as e:\n",
    "    print(e)\n",
    "    "
   ]
  },
  {
   "cell_type": "code",
   "execution_count": 25,
   "id": "e6c26b4b-7164-433e-803f-65ca899f2b48",
   "metadata": {},
   "outputs": [],
   "source": [
    "#ans 6\n",
    "class studentrollno(Exception):\n",
    "    def __init__(self,msg):\n",
    "        self.msg=msg\n",
    "        "
   ]
  },
  {
   "cell_type": "code",
   "execution_count": 26,
   "id": "e4b695bb-704c-4251-a48f-0c98007a8808",
   "metadata": {},
   "outputs": [],
   "source": [
    "def student_validroll(rollno,classstrength):\n",
    "    if rollno<0:\n",
    "        raise studentrollno(\"entered id of student is not possible \")\n",
    "    elif rollno>classstrength:\n",
    "        raise studentrollno(\"please check again as it can not more than strength of class\")\n",
    "    else:\n",
    "        print(\"valid no.\")"
   ]
  },
  {
   "cell_type": "code",
   "execution_count": 28,
   "id": "316a772c-ee86-48f8-8de2-b203f5111478",
   "metadata": {},
   "outputs": [
    {
     "name": "stdin",
     "output_type": "stream",
     "text": [
      "enter the rollno of student 67\n",
      "enter the strength of class 56\n"
     ]
    },
    {
     "name": "stdout",
     "output_type": "stream",
     "text": [
      "please check again as it can not more than strength of class\n"
     ]
    }
   ],
   "source": [
    "try:\n",
    "    rollno=int(input(\"enter the rollno of student\"))\n",
    "    classstrength=int(input(\"enter the strength of class\"))\n",
    "    student_validroll(rollno,classstrength)\n",
    "except studentrollno as e:\n",
    "    print(e)"
   ]
  }
 ],
 "metadata": {
  "kernelspec": {
   "display_name": "Python 3 (ipykernel)",
   "language": "python",
   "name": "python3"
  },
  "language_info": {
   "codemirror_mode": {
    "name": "ipython",
    "version": 3
   },
   "file_extension": ".py",
   "mimetype": "text/x-python",
   "name": "python",
   "nbconvert_exporter": "python",
   "pygments_lexer": "ipython3",
   "version": "3.10.8"
  }
 },
 "nbformat": 4,
 "nbformat_minor": 5
}
